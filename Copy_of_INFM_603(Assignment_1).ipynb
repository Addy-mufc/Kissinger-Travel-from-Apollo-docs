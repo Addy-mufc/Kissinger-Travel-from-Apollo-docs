{
  "nbformat": 4,
  "nbformat_minor": 0,
  "metadata": {
    "colab": {
      "provenance": [],
      "collapsed_sections": [],
      "include_colab_link": true
    },
    "kernelspec": {
      "name": "python3",
      "display_name": "Python 3"
    },
    "language_info": {
      "name": "python"
    }
  },
  "cells": [
    {
      "cell_type": "markdown",
      "metadata": {
        "id": "view-in-github",
        "colab_type": "text"
      },
      "source": [
        "<a href=\"https://colab.research.google.com/github/Addy-mufc/Kissinger-Travel-from-Apollo-docs/blob/main/Copy_of_INFM_603(Assignment_1).ipynb\" target=\"_parent\"><img src=\"https://colab.research.google.com/assets/colab-badge.svg\" alt=\"Open In Colab\"/></a>"
      ]
    },
    {
      "cell_type": "markdown",
      "source": [
        "**For INFM 603 students:** This notebook illustrates string processing operations in python.\n",
        "\n",
        "**Summary:** We'll first load a file of State Department cables (i.e., telegram messages) from the 1970's that the National Archives and Records Administration makes available.  We'll then use python to find some interesting things in that collections.\n",
        "\n",
        "**Getting started:** Click `File` -> `Save a copy in Drive`. There will be a copy of this demo notebook in your Google Drive (which will automatically create a directory `Colab Notebook`). We will each work with the cloned notebook.\n"
      ],
      "metadata": {
        "id": "3cizZrgw7emq"
      }
    },
    {
      "cell_type": "markdown",
      "source": [
        "First we need to download the collection.  We'll do this by using the Unix wget command to download a zip file, and then the Unix unzip command.  To use a Unix command in a Colab notebook, just precede it with a !"
      ],
      "metadata": {
        "id": "Z9OCqd-f_Kmx"
      }
    },
    {
      "cell_type": "code",
      "execution_count": null,
      "metadata": {
        "colab": {
          "base_uri": "https://localhost:8080/"
        },
        "id": "CBM8JmSf7IGM",
        "outputId": "7b7ef4a4-6808-4855-9e9f-7db1078e3027"
      },
      "outputs": [
        {
          "output_type": "stream",
          "name": "stdout",
          "text": [
            "--2022-09-12 13:31:17--  https://users.umiacs.umd.edu/~oard/cables.zip\n",
            "Resolving users.umiacs.umd.edu (users.umiacs.umd.edu)... 128.8.120.33\n",
            "Connecting to users.umiacs.umd.edu (users.umiacs.umd.edu)|128.8.120.33|:443... connected.\n",
            "HTTP request sent, awaiting response... 200 OK\n",
            "Length: 509664391 (486M) [application/zip]\n",
            "Saving to: ‘cables.zip’\n",
            "\n",
            "cables.zip          100%[===================>] 486.05M  24.0MB/s    in 19s     \n",
            "\n",
            "2022-09-12 13:31:36 (25.3 MB/s) - ‘cables.zip’ saved [509664391/509664391]\n",
            "\n",
            "starting unzip\n",
            "unzip cpmplete, files stored in cables/\n"
          ]
        }
      ],
      "source": [
        "!wget https://users.umiacs.umd.edu/~oard/cables.zip\n",
        "print('starting unzip')\n",
        "!unzip -u -q cables.zip\n",
        "print('unzip cpmplete, files stored in cables/')"
      ]
    },
    {
      "cell_type": "markdown",
      "source": [
        "Now let's open one file from the collection, which contains multiple messages (enclosed in a `<sasdoc></sasdoc>` is a document. Inside is the `<msgtext>` and `<subject>` tags). Look at some of the subject lines to get a sense for what's in the collection.  "
      ],
      "metadata": {
        "id": "as-cui6Z__5I"
      }
    },
    {
      "cell_type": "code",
      "source": [
        "import xml.etree.ElementTree as ET\n",
        "import random\n",
        "\n",
        "tree=ET.parse('cables/CFPF.TEL.APR73.PU')\n",
        "root = tree.getroot()\n",
        "\n",
        "print('Ten random cables')\n",
        "for subject in list(random.sample(list(root.iter('subject')), 10)):\n",
        "    print('Subject:', subject.text)\n",
        "\n"
      ],
      "metadata": {
        "colab": {
          "base_uri": "https://localhost:8080/"
        },
        "outputId": "d5fad7d9-81e7-40fa-fa16-950be0247ed7",
        "id": "VJg0JvVdRVQe"
      },
      "execution_count": null,
      "outputs": [
        {
          "output_type": "stream",
          "name": "stdout",
          "text": [
            "Ten random cables\n",
            "Subject: TRAVEL OF BNDD AGENT NOLAN\n",
            "Subject: CIVIL AVIATION SECURITY\n",
            "Subject: N/A\n",
            "Subject: PRIVATE TRADE OPPORTUNITY\n",
            "Subject: SUMMONS BY GENERAL AMIN\n",
            "Subject: PROPOSED PRESIDENTIAL VISIT\n",
            "Subject: PROPOSED LABOR SEMINAR\n",
            "Subject: NEED FOR EXIMBANK, WASHINGTON, RESPONSE TO QUERY FROM BANK OF ADELAIDE. FOR EXIMBANK\n",
            "Subject: WEEKLY REVIEW OF PEOPLE' S REPUBLIC OF CHINA NO. 15\n",
            "Subject: OMEGA AUSTRALIA\n"
          ]
        }
      ]
    },
    {
      "cell_type": "markdown",
      "source": [
        "I'm interested in the Apollo program, which in April 1973 had just recently ended.  So let's see what we can find on Apollo. "
      ],
      "metadata": {
        "id": "VLKxcTG2THS8"
      }
    },
    {
      "cell_type": "code",
      "source": [
        "n=0\n",
        "for subject in list(root.iter('subject')):\n",
        "    if 'APOLLO' in subject.text:\n",
        "        print(n, 'Subject:', subject.text)\n",
        "    n += 1"
      ],
      "metadata": {
        "colab": {
          "base_uri": "https://localhost:8080/"
        },
        "outputId": "64b0b676-115b-46da-926e-71bab8f09855",
        "id": "Ywm0gi2mRRpu"
      },
      "execution_count": null,
      "outputs": [
        {
          "output_type": "stream",
          "name": "stdout",
          "text": [
            "991 Subject: BELGIAN REACTION TO MEETING ON POST- APOLLO COOPERATION\n",
            "1385 Subject: POST- APOLLO INTERGOVERNMENTAL AGREEMENT\n",
            "1951 Subject: PRESIDENTIAL GOOD WILL TOUR BY APOLLO 17 ASTRONAUTS - NIGER\n",
            "2358 Subject: APOLLO 17 ASTRONAUTS VISIT - NIGER\n",
            "2591 Subject: POST- APOLLO GOVERNMENTAL AGREEMENT\n",
            "2714 Subject: PRESIDENTIAL GOODWILL TOUR BY APOLLO 17 ASTRONAUTS ( CHALLENGER)\n",
            "2719 Subject: CHALLENGER: GOODWILL TOUR BY APOLLO 17 ASTRONAUTS\n",
            "3618 Subject: PRESIDENTIAL GOODWILL TOUR BY APOLLO 17 ASTRONAUTS ( CHALLENGER)\n",
            "3675 Subject: INFORMAL MEETING ON GOVERNMENTAL AGREEMENT ON POST- APOLLO COOPERATION.\n",
            "6725 Subject: POST- APOLLO: SPACELAB GOVERNMENT AGREEMENT\n"
          ]
        }
      ]
    },
    {
      "cell_type": "markdown",
      "source": [
        "Let's take a look at that last one, message 6725."
      ],
      "metadata": {
        "id": "gpDa2r1bT_Y2"
      }
    },
    {
      "cell_type": "code",
      "source": [
        "message = root[6725].find('msgtext')\n",
        "print(message.text)\n"
      ],
      "metadata": {
        "colab": {
          "base_uri": "https://localhost:8080/"
        },
        "id": "NCP5t9cqCVXu",
        "outputId": "dbb1365d-6258-416e-9837-75737f080b4e"
      },
      "execution_count": null,
      "outputs": [
        {
          "output_type": "stream",
          "name": "stdout",
          "text": [
            "\n",
            "\n",
            "  UNCLASSIFIED\n",
            "\n",
            " PAGE 01   PARIS 10268  121948 Z\n",
            "\n",
            "60\n",
            " ACTION   SCI-06\n",
            "\n",
            "  INFO  OCT-01    EUR-25   ADP-00   NASA-04   GAC-01   ACDA-19   CIAE-00\n",
            "\n",
            "       DODE-00   PM-09   INR-10   L-03   NSAE-00   NSC-10   RSC-01   EB-11\n",
            "\n",
            "       COME-00   RSR-01  /101  W\n",
            "                       ---------------------       054442\n",
            " R 121720 Z APR 73\n",
            "FM AMEMBASSY PARIS\n",
            "TO  SECSTATE WASHDC 9174\n",
            "INFO  AMEMBASSY BONN\n",
            " AMEMBASSY BRUSSELS\n",
            " AMEMBASSY THE HAGUE\n",
            " AMEMBASSY LONDON\n",
            " AMEMBASSY ROME\n",
            "\n",
            " UNCLAS PARIS 10268\n",
            "\n",
            "E. O. 11652:  N/ A\n",
            "TAGS:  TSPA,  XT\n",
            "SUBJECT:  POST- APOLLO:  SPACELAB GOVERNMENT AGREEMENT\n",
            "\n",
            "DEPT PASS NASA\n",
            "\n",
            "REFERENCE:  PARIS 9652\n",
            "\n",
            "1.   SUMMARY:  ESRO OFFICIAL IS DELIVERING ESRO DRAFT GOVERNMENT\n",
            "AGREEMENT TO POLLACK FOR APRIL 18  MEETING.   GIBSON REQUESTED\n",
            "NAMES PRINCIPAL U. S.  PARTICIPANTS,  PROVIDED PROTOCOL SUGGESTIONS\n",
            "FOR NEGOTIATION GOVERNMENT AGREEMENTS.   END SUMMARY.\n",
            "\n",
            "2.   EMBASSY SCIENCE OFFICER AND NASA EUROPEAN REPRESENTATIVE\n",
            "MET WITH GIBSON AND KALTENECKER APRIL 12  TO DISCUSS SPACELAB\n",
            "AGREEMENTS.   LATTER PROVIDED ESRO DRAFTS,  COMMENTED THAT ESRO\n",
            "SECRETARIAT OFFICIAL FEIBERT HAD ALREADY DEPARTED FOR WASHINGTON\n",
            "HANDCARRYING 10  COPIES GOVERNMENT AGREEMENT TO POLLACK.   COPIES\n",
            "ALSO POUCHED.  BOTH ESRO REPRESENTATIVES EMPHASIZED THAT PRESENT\n",
            "DRAFT GOVERNMENT AGREEMENT IS AN ESRO SECRETARIAT DRAFT WITH\n",
            "WHICH SOME NATIONAL DELEGATES MAY NOT BE ENTIRELY IN ACCORD.\n",
            "\n",
            " UNCLASSIFIED\n",
            "\n",
            "\n",
            "\n",
            "  UNCLASSIFIED\n",
            "\n",
            "PAGE 02   PARIS 10268  121948 Z\n",
            "\n",
            " 3.   GIBSON REQUESTED IDENTIFICATION OF PRINCIPAL U. S.  OFFICIALS\n",
            "AT APRIL 18  MEETING ON GOVERNMENT AGREEMENT.   PRESENTLY FORE-\n",
            "SEEABLE EUROPEAN DELEGATES INCLUDE TRELLA,  LOOSCH AND VAN\n",
            "EESBECK AND SCIENCE ATTACHES FROM FRENCH AND NETHERLANDS EMBAS-\n",
            "SIES WASHINGTON.   NEITHER UK NOR SPAIN EXPECTED SEND REPRESEN-\n",
            " TATIVES.\n",
            "\n",
            "4.   GIBSON SAID EUROPEAN REPRESENTATION AT MAY-3-4  GOVERNMENT\n",
            "NEGOTIATIONS WILL NOT BE DETERMINED UNTIL APRIL 26  MEETING SPACE-\n",
            "LAB BOARD.   HE COMMENTED THAT THEY WOULD BE AT LEVEL OF MINISTE-\n",
            "RIAL ALTERNATES COMMITTEE.\n",
            "\n",
            "5.   GIBSON PROVIDED FOLLOWING COMMENTS FOR DEPARTMENT GUIDANCE\n",
            "IN GOVERNMENT- TO- GOVERNMENT NEGOTIATIONS,  ASKING THAT THEY BE\n",
            "CONSIDERED AS PRIVILEGED REMARKS.   HE SAID THERE EXISTS STRONG\n",
            "FEELING IN SEVERAL GOVERNMENTS THAT IN SIGNING POST- APOLLO\n",
            "AGREEMENT THEY WILL BE ENTERING INTO A DIRECT RELATIONSHIP WITH\n",
            "U. S.   THEY ARE PLEASED THAT OTHER ESRO MEMBER GOVERNMENTS ARE\n",
            "ALSO PARTICIPATING BUT ATTACH A SPECIAL VALUE TO CHARACTER OF\n",
            "THEIR ASSOCIATION WITH U. S.  IN PROGRAM.   GIBSON SUGGESTED U. S.\n",
            "ACTIONS SEEK TO PRESERVE SPECIAL CHARACTER OF THIS RELATION-\n",
            "SHIP.\n",
            "\n",
            "6.   HE ALSO DREW ATTENTION TO SPECIAL NATURE OF MAURICE LEVY' S\n",
            "POSITION OF LEADERSHIP IN NEGOTIATION OF GOVERNMENT AGREEMENT.\n",
            "GIBSON BELIEVES IT ESSENTIAL THAT U. S.  RECOGNIZE THAT LEVY IS NOT\n",
            "REPEAT NOT ACTING FOR EUROPEAN GOVERNMENTS AS CHAIRMAN OF\n",
            "ESRO COUNCIL,  SAID U. S.  WOULD BE ILL- ADVISED ADDRESS HIM BY\n",
            "COUNCIL CHAIRMAN TITLE DURING GOVERNMENT NEGOTIATIONS.   HE SAID\n",
            "ESRO MEMBER GOVERNMENTS HAVE SELECTED LEVY AS THEIR SPOKESMAN \n",
            "NOT\n",
            "AS COUNCIL CHAIRMAN BUT BECAUSE HE,  AS FRENCH GOVERNMENT REPRE-\n",
            "SENTATIVE,  COMBINES EXPERIENCE AND PRESTIGE UNIQUELY QUALIFYING\n",
            "HIM AS EUROPEAN SPOKESMAN.  ( GIBSON EMPHASIZED IMPORTANCE SOME\n",
            "GOVERNMENTS ATTACH TO THIS POINT.)\n",
            "\n",
            "7.   GIBSON' S THIRD REMARK CONCERNED THE WORD QUOTE FOREIGN\n",
            "UNQUOTE AS USED IN DRAFT AGREEMENTS.   HE SAID THIS WORD CARRIES\n",
            "A DEROGATORY CONNOTATION FOR MANY EUROPEANS AND SUGGESTED IT BE\n",
            "REPLACED WHEREVER POSSIBLE BY QUOTE NON- AMERICAN UNQUOTE OR SOME\n",
            "EQUIVALENT TERM.   HE SUGGESTED THAT A U. S.  SPOKESMAN REMARK AT\n",
            "SOME POINT THAT TERM QUOTE FOREIGN UNQUOTE IS WITHOUT PRE-\n",
            "JUDICIAL CONNOTATION. IRWIN\n",
            " UNCLASSIFIED\n",
            "\n",
            "\n",
            "\n",
            "  UNCLASSIFIED\n",
            "\n",
            "PAGE 03   PARIS 10268  121948 Z\n",
            "\n",
            "\n",
            "\n",
            " UNCLASSIFIED\n",
            "\n",
            "\n",
            "\n",
            "\n",
            "\n",
            "\n",
            "\n",
            "\n",
            "*** Current Handling Restrictions ***   n/a\n",
            "***  Current Classification ***   UNCLASSIFIED\n",
            "\n"
          ]
        }
      ]
    },
    {
      "cell_type": "markdown",
      "source": [
        "There are two problemms with the way we found this.  First, the substring search we used (python's in operator) will find not just entire words but also parts of words.  For example, if we had searched for cat we might find cat, catalog, or catatonic. Second, we searced only the subject line of the message.  We can solve both of these problems at once by using the unix split operator to split the full text of the message up into words (whcih we will call tokens, because some are not actually words). We already have the entire message in a single string called `message.text`, so let's start by splitting that into tokens at spaces and newlines and stripping leading and trailing punctuation from each token.  To avoid the problem with capitalization being different for the work at the start of a sentence, we will also convert all the text to lowercase.  This will produce a list, each element of which is one token, and we can print out that list."
      ],
      "metadata": {
        "id": "ojoPHK9GUonF"
      }
    },
    {
      "cell_type": "code",
      "source": [
        "tokens = message.text.split()\n",
        "for j in range(len(tokens)):\n",
        "    tokens[j] = tokens[j].casefold().strip(\".,:*/'())-\")\n",
        "print(tokens)"
      ],
      "metadata": {
        "colab": {
          "base_uri": "https://localhost:8080/"
        },
        "id": "Zl_Cs_bXVYMe",
        "outputId": "47d1484c-5a78-4d58-962e-c994f30285a3"
      },
      "execution_count": null,
      "outputs": [
        {
          "output_type": "stream",
          "name": "stdout",
          "text": [
            "['unclassified', 'page', '01', 'paris', '10268', '121948', 'z', '60', 'action', 'sci-06', 'info', 'oct-01', 'eur-25', 'adp-00', 'nasa-04', 'gac-01', 'acda-19', 'ciae-00', 'dode-00', 'pm-09', 'inr-10', 'l-03', 'nsae-00', 'nsc-10', 'rsc-01', 'eb-11', 'come-00', 'rsr-01', '101', 'w', '', '054442', 'r', '121720', 'z', 'apr', '73', 'fm', 'amembassy', 'paris', 'to', 'secstate', 'washdc', '9174', 'info', 'amembassy', 'bonn', 'amembassy', 'brussels', 'amembassy', 'the', 'hague', 'amembassy', 'london', 'amembassy', 'rome', 'unclas', 'paris', '10268', 'e', 'o', '11652', 'n', 'a', 'tags', 'tspa', 'xt', 'subject', 'post', 'apollo', 'spacelab', 'government', 'agreement', 'dept', 'pass', 'nasa', 'reference', 'paris', '9652', '1', 'summary', 'esro', 'official', 'is', 'delivering', 'esro', 'draft', 'government', 'agreement', 'to', 'pollack', 'for', 'april', '18', 'meeting', 'gibson', 'requested', 'names', 'principal', 'u', 's', 'participants', 'provided', 'protocol', 'suggestions', 'for', 'negotiation', 'government', 'agreements', 'end', 'summary', '2', 'embassy', 'science', 'officer', 'and', 'nasa', 'european', 'representative', 'met', 'with', 'gibson', 'and', 'kaltenecker', 'april', '12', 'to', 'discuss', 'spacelab', 'agreements', 'latter', 'provided', 'esro', 'drafts', 'commented', 'that', 'esro', 'secretariat', 'official', 'feibert', 'had', 'already', 'departed', 'for', 'washington', 'handcarrying', '10', 'copies', 'government', 'agreement', 'to', 'pollack', 'copies', 'also', 'pouched', 'both', 'esro', 'representatives', 'emphasized', 'that', 'present', 'draft', 'government', 'agreement', 'is', 'an', 'esro', 'secretariat', 'draft', 'with', 'which', 'some', 'national', 'delegates', 'may', 'not', 'be', 'entirely', 'in', 'accord', 'unclassified', 'unclassified', 'page', '02', 'paris', '10268', '121948', 'z', '3', 'gibson', 'requested', 'identification', 'of', 'principal', 'u', 's', 'officials', 'at', 'april', '18', 'meeting', 'on', 'government', 'agreement', 'presently', 'fore', 'seeable', 'european', 'delegates', 'include', 'trella', 'loosch', 'and', 'van', 'eesbeck', 'and', 'science', 'attaches', 'from', 'french', 'and', 'netherlands', 'embas', 'sies', 'washington', 'neither', 'uk', 'nor', 'spain', 'expected', 'send', 'represen', 'tatives', '4', 'gibson', 'said', 'european', 'representation', 'at', 'may-3-4', 'government', 'negotiations', 'will', 'not', 'be', 'determined', 'until', 'april', '26', 'meeting', 'space', 'lab', 'board', 'he', 'commented', 'that', 'they', 'would', 'be', 'at', 'level', 'of', 'ministe', 'rial', 'alternates', 'committee', '5', 'gibson', 'provided', 'following', 'comments', 'for', 'department', 'guidance', 'in', 'government', 'to', 'government', 'negotiations', 'asking', 'that', 'they', 'be', 'considered', 'as', 'privileged', 'remarks', 'he', 'said', 'there', 'exists', 'strong', 'feeling', 'in', 'several', 'governments', 'that', 'in', 'signing', 'post', 'apollo', 'agreement', 'they', 'will', 'be', 'entering', 'into', 'a', 'direct', 'relationship', 'with', 'u', 's', 'they', 'are', 'pleased', 'that', 'other', 'esro', 'member', 'governments', 'are', 'also', 'participating', 'but', 'attach', 'a', 'special', 'value', 'to', 'character', 'of', 'their', 'association', 'with', 'u', 's', 'in', 'program', 'gibson', 'suggested', 'u', 's', 'actions', 'seek', 'to', 'preserve', 'special', 'character', 'of', 'this', 'relation', 'ship', '6', 'he', 'also', 'drew', 'attention', 'to', 'special', 'nature', 'of', 'maurice', 'levy', 's', 'position', 'of', 'leadership', 'in', 'negotiation', 'of', 'government', 'agreement', 'gibson', 'believes', 'it', 'essential', 'that', 'u', 's', 'recognize', 'that', 'levy', 'is', 'not', 'repeat', 'not', 'acting', 'for', 'european', 'governments', 'as', 'chairman', 'of', 'esro', 'council', 'said', 'u', 's', 'would', 'be', 'ill', 'advised', 'address', 'him', 'by', 'council', 'chairman', 'title', 'during', 'government', 'negotiations', 'he', 'said', 'esro', 'member', 'governments', 'have', 'selected', 'levy', 'as', 'their', 'spokesman', 'not', 'as', 'council', 'chairman', 'but', 'because', 'he', 'as', 'french', 'government', 'repre', 'sentative', 'combines', 'experience', 'and', 'prestige', 'uniquely', 'qualifying', 'him', 'as', 'european', 'spokesman', '', 'gibson', 'emphasized', 'importance', 'some', 'governments', 'attach', 'to', 'this', 'point', '7', 'gibson', 's', 'third', 'remark', 'concerned', 'the', 'word', 'quote', 'foreign', 'unquote', 'as', 'used', 'in', 'draft', 'agreements', 'he', 'said', 'this', 'word', 'carries', 'a', 'derogatory', 'connotation', 'for', 'many', 'europeans', 'and', 'suggested', 'it', 'be', 'replaced', 'wherever', 'possible', 'by', 'quote', 'non', 'american', 'unquote', 'or', 'some', 'equivalent', 'term', 'he', 'suggested', 'that', 'a', 'u', 's', 'spokesman', 'remark', 'at', 'some', 'point', 'that', 'term', 'quote', 'foreign', 'unquote', 'is', 'without', 'pre', 'judicial', 'connotation', 'irwin', 'unclassified', 'unclassified', 'page', '03', 'paris', '10268', '121948', 'z', 'unclassified', '', 'current', 'handling', 'restrictions', '', 'n/a', '', 'current', 'classification', '', 'unclassified']\n"
          ]
        }
      ]
    },
    {
      "cell_type": "markdown",
      "source": [
        "Once we can do that for one message, we can do if for all of them, in several files (just to save time, we'll only process 5 files, but you could process more if you're patient).  We'll make a list of lists.  The outer list will have on entry per message; the inner list will have one entry per token.  We'll print out the tokens for the first five messages.  Note that we need to be careful about how to handle empty messages."
      ],
      "metadata": {
        "id": "CBoTYWm_dyPN"
      }
    },
    {
      "cell_type": "code",
      "source": [
        "import os\n",
        "\n",
        "tokens=[]\n",
        "i=0\n",
        "files = 0\n",
        "for file in os.listdir('cables'):\n",
        "    if file.endswith('PU') and files < 5:\n",
        "        tree=ET.parse('cables/CFPF.TEL.APR73.PU')\n",
        "        root = tree.getroot()\n",
        "        for message in list(root.iter('msgtext')):\n",
        "            tok = message.text.split()\n",
        "            if len(tok)>0:\n",
        "                tokens.append(tok)\n",
        "                for j in range(len(tokens[i])):\n",
        "                    tokens[i][j] = tokens[i][j].casefold().strip(\".,:*/'())-\")\n",
        "                if i<5:\n",
        "                    print(tokens[i])\n",
        "                i += 1\n",
        "        files += 1"
      ],
      "metadata": {
        "id": "c0zxXL0ogUp7",
        "colab": {
          "base_uri": "https://localhost:8080/"
        },
        "outputId": "728f6e95-5907-4bbe-8561-8272f31b9c71"
      },
      "execution_count": null,
      "outputs": [
        {
          "output_type": "stream",
          "name": "stdout",
          "text": [
            "['confidential', 'page', '01', 'lima', '02545', '01', 'of', '02', '232207', 'z', '70', 'action', 'ara-17', 'info', 'oct-01', 'adp-00', 'nic-01', 'ciae-00', 'dode-00', 'pm-09', 'h-02', 'inr-10', 'l-03', 'nsae-00', 'nsc-10', 'pa-03', 'rsc-01', 'prs-01', 'ss-15', 'usia-12', 'eur-25', 'aid-20', 'eb-11', 'trse-00', 'iga-02', 'rsr-01', '144', 'w', '', '012957', 'r', '232119', 'z', 'apr', '73', 'fm', 'amembassy', 'lima', 'to', 'secstate', 'washdc', '5194', 'info', 'amembassy', 'santiago', 'uscincso', 'c', 'o', 'n', 'f', 'i', 'd', 'e', 'n', 't', 'i', 'a', 'l', 'section', '1', 'of', '2', 'lima', '2545', 'e', 'o', '11652', 'gds', 'tags', 'pfor', 'pinr', 'mass', 'pe', 'subject', 'conversation', 'with', 'prime', 'minister', 'mercado', 'leftist', 'influence', 'in', 'the', 'government', 'and', 'fms', 'for', 'santiago', 'your', 'attention', 'is', 'drawn', 'especially', 'to', 'para', '6', '1', 'during', 'a', 'recent', 'conversation', 'with', 'prime', 'minister', 'mercado', 'he', 'said', 'he', 'wished', 'to', 'discuss', 'the', 'problem', 'of', 'the', 'foreign', 'military', 'sales', 'with', 'me', 'as', 'we', 'were', 'waiting', 'for', 'the', 'arrival', 'of', 'his', 'chief', 'of', 'logistics', 'general', 'lopez', 'mercado', 'asked', 'me', 'how', 'i', 'thought', 'things', 'were', 'going', 'in', 'peru', 'i', 'asked', 'him', 'in', 'what', 'sense', 'he', 'had', 'asked', 'the', 'question', 'because', 'i', 'thought', 'some', 'things', 'were', 'going', 'well', 'and', 'some', 'things', 'poorly', 'the', 'prime', 'minister', 'said', 'that', 'he', 'was', 'interested', 'in', 'my', 'reaction', 'to', 'the', 'constant', 'accusations', 'of', 'leftist', 'penetration', 'of', 'the', 'government', 'i', 'said', 'that', 'i', 'had', 'of', 'course', 'heard', 'such', 'comments', 'but', 'that', 'i', 'had', 'tended', 'to', 'dis', 'count', 'their', 'importance', 'because', 'of', 'my', 'view', 'that', 'the', 'armed', 'forces', 'as', 'an', 'institution', 'would', 'not', 'accept', 'a', 'radical', 'swing', 'to', 'the', 'left', 'and', 'on', 'the', 'contrary', 'would', 'resist', 'it', 'moreover', 'i', 'said', 'i', 'was', 'certain', 'that', 'by', 'this', 'time', 'he', 'and', 'his', 'colleagues', 'must', 'have', 'realized', 'that', 'access', 'to', 'western', 'sources', 'of', 'capital', 'was', 'confidential', 'confidential', 'page', '02', 'lima', '02545', '01', 'of', '02', '232207', 'z', 'vital', 'to', 'peru', 's', 'development', 'and', 'that', 'these', 'sources', 'could', 'not', 'be', 'replaced', 'by', 'the', 'soviets', 'or', 'east', 'europeans', '2', 'i', 'said', 'that', 'this', 'had', 'been', 'the', 'nature', 'of', 'my', 'reporting', 'to', 'washington', 'even', 'though', 'at', 'times', 'it', 'was', 'difficult', 'to', 'explain', 'some', 'of', 'the', 'zigzags', 'represented', 'by', 'statements', 'of', 'officials', 'of', 'the', 'gop', 'as', 'a', 'for', 'instance', 'i', 'referred', 'to', 'the', 'recent', 'statements', 'in', 'cuba', 'by', 'general', 'leonidas', 'rodriguez', 'who', 'was', 'there', 'on', 'an', 'official', 'visit', 'i', 'said', 'it', 'was', 'difficult', 'for', 'me', 'to', 'assess', 'the', 'significance', 'of', 'such', 'pro', 'cuban', 'and', 'anti', 'u', 's', 'comments', 'as', 'they', 'might', 'reflect', 'official', 'peruvian', 'policy', '3', 'unfortunately', 'at', 'this', 'moment', 'general', 'lopez', 'walked', 'in', 'and', 'the', 'rest', 'of', 'the', 'meeting', 'was', 'taken', 'up', 'with', 'a', 'discussion', 'of', 'fms', 'it', 'would', 'have', 'been', 'interesting', 'to', 'have', 'had', 'mercado', 's', 'reaction', 'to', 'my', 'comments', 'about', 'general', 'rodriguez', 'and', 'indeed', 'to', 'hear', 'his', 'own', 'views', 'on', 'cuba', 'my', 'supposition', 'is', 'that', 'mercado', 'raised', 'the', 'question', 'of', 'leftists', 'in', 'the', 'government', 'because', 'of', 'his', 'pre', 'occupation', 'over', 'his', 'own', 'position', 'as', 'representing', 'the', 'moderate', 'left', 'and', 'his', 'feelings', 'that', 'his', 'position', 'has', 'been', 'weakened', 'by', 'the', 'maneuverings', 'of', 'graham', 'rodriguez', 'fernandez', 'maldonado', 'et', 'al', '4', 'with', 'regard', 'to', 'fms', 'mercado', 'presented', 'me', 'with', 'an', 'accounting', 'of', 'the', 'items', 'which', 'the', 'army', 'had', 'requested', 'during', 'the', 'period', 'last', 'year', 'when', 'fms', 'was', 'not', 'suspended', 'he', 'said', 'he', 'had', 'never', 'received', 'any', 'formal', 'replies', 'to', 'these', 'requests', 'and', 'he', 'wished', 'to', 'know', 'officially', 'whether', 'the', 'peruvian', 'army', 'could', 'count', 'on', 'the', 'u', 's', 'as', 'a', 'source', 'of', 'supply', 'he', 'played', 'up', 'his', 'old', 'theme', 'when', 'he', 'said', 'that', 'if', 'we', 'could', 'not', 'give', 'him', 'a', 'positive', 'answer', 'they', 'would', 'have', 'to', 'look', 'elsewhere', 'he', 'added', 'that', 'when', 'and', 'if', 'the', 'gop', 'bought', 'soviet', 'equipment', 'this', 'should', 'not', 'be', 'interpreted', 'as', 'a', 'further', 'move', 'to', 'the', 'left', 'but', 'rather', 'as', 'something', 'forced', 'on', 'them', 'by', 'our', 'denial', 'of', 'their', 'requests', '5', 'i', 'told', 'the', 'prime', 'minister', 'that', 'i', 'was', 'sure', 'he', 'was', 'well', 'aware', 'of', 'the', 'conflict', 'represented', 'by', 'our', 'desire', 'to', 'cooperate', 'with', 'the', 'peruvian', 'military', 'in', 'providing', 'for', 'their', 'arms', 'needs', 'and', 'of', 'the', 'legislative', 'restrictions', 'which', 'from', 'time', 'to', 'time', 'made', 'it', 'impossible', 'to', 'do', 'so', 'i', 'said', 'that', 'i', 'presumed', 'he', 'was', 'aware', 'of', 'the', 'provisions', 'of', 'the', 'pelly', 'amendment', 'as', 'well', 'as', 'of', 'the', 'fact', 'that', 'confidential', 'confidential', 'page', '03', 'lima', '02545', '01', 'of', '02', '232207', 'z', 'the', 'state', 'department', 'had', 'consistently', 'opposed', 'the', 'introduction', 'of', 'this', 'sort', 'of', 'legislation', 'by', 'the', 'congress', 'nevertheless', '', 'quoting', 'president', 'velasco', 'i', 'said', '\"', 'la', 'ley', 'existe', 'y', 'hay', 'que', 'cumplirla.\"', 'i', 'said', 'that', 'both', 'he', 'and', 'i', 'might', 'agree', 'that', 'the', 'law', 'was', 'not', 'a', 'good', 'one', 'just', 'as', 'many', 'people', 'in', 'peru', 'might', 'agree', 'that', 'this', 'e', 'e', 'e', 'e', 'e', 'e', 'e', 'e', 'adp000', 'confidential', 'page', '01', 'lima', '02545', '02', 'of', '02', '232231', 'z', '70', 'action', 'ara-17', 'info', 'oct-01', 'adp-00', 'nic-01', 'ciae-00', 'dode-00', 'pm-09', 'h-02', 'inr-10', 'l-03', 'nsae-00', 'nsc-10', 'pa-03', 'rsc-01', 'prs-01', 'ss-15', 'usia-12', 'eur-25', 'aid-20', 'eb-11', 'trse-00', 'iga-02', 'rsr-01', '144', 'w', '', '013039', 'r', '232119', 'z', 'apr', '73', 'fm', 'amembassy', 'lima', 'to', 'secstate', 'washdc', '5195', 'info', 'amembassy', 'santiago', 'uscincso', 'c', 'o', 'n', 'f', 'i', 'd', 'e', 'n', 't', 'i', 'a', 'l', 'section', '2', 'of', '2', 'lima', '2545', '6', 'as', 'is', 'almost', 'always', 'the', 'case', 'in', 'conversations', 'on', 'this', 'subject', 'the', 'chilean', 'syndrome', 'soon', 'surfaced', 'the', 'prime', 'minister', 'wanted', 'to', 'know', 'why', 'we', 'were', 'willing', 'to', 'sell', 'a', 'communist', 'regime', 'a', 'ship', 'capable', 'of', 'landiing', '40', 'tanks', 'on', 'peruvian', 'soil', 'and', 'why', 'we', 'were', 'considering', 'providing', 'chile', 'with', 'a', '$10', 'million', 'fms', 'credit', '', 'he', 'gave', 'no', 'indication', 'of', 'any', 'awareness', 'of', 'our', 'willingness', 'to', 'sell', 'm-48', 'tanks', 'to', 'chile', 'in', 'his', 'list', 'of', 'requirements', 'however', 'there', 'is', 'an', 'entry', 'requesting', '110', '\"', 'medium', 'tanks.\"', 'i', 'told', 'him', 'he', 'could', 'blame', 'the', 'tuna', 'for', 'not', 'going', 'far', 'enough', 'south', 'if', 'only', 'they', 'would', 'then', 'the', 'chileans', 'would', 'pick', 'up', 'our', 'fishing', 'boats', 'and', 'they', 'would', 'be', 'without', 'fms', 'also', 'in', 'other', 'words', 'there', 'were', 'no', 'legislative', 'restrictions', 'on', 'our', 'support', 'of', 'the', 'chilean', 'military', 'in', 'their', 'requests', 'for', 'materiel', 'i', 'said', 'that', 'while', 'we', 'could', 'not', 'be', 'sure', 'of', 'the', 'over', 'all', 'effect', 'of', 'such', 'moderate', 'sales', 'and', 'credits', 'to', 'chile', 'we', 'did', 'feel', 'that', 'it', 'was', 'important', 'to', 'do', 'what', 'we', 'could', 'to', 'make', 'it', 'unnecessary', 'for', 'the', 'chilean', 'military', 'to', 'turn', 'to', 'the', 'ussr', 'as', 'a', 'source', 'of', 'supply', 'mercado', 'then', 'said', 'that', 'if', 'such', 'reasoning', 'was', 'valid', 'for', 'the', 'chilean', 'military', 'why', 'was', 'it', 'not', 'valid', 'for', 'the', 'peruvians', 'our', 'conversation', 'had', 'come', 'to', 'a', 'full', 'circle', 'and', 'i', 'reminded', 'him', 'again', 'that', 'we', 'were', 'up', 'against', 'the', 'existence', 'of', 'peruvian', 'and', 'u', 's', 'laws', 'that', 'were', 'in', 'conflict', 'and', 'that', 'we', 'had', 'been', 'searching', 'for', 'some', 'time', 'to', 'find', 'a', 'way', 'to', 'overcome', 'this', 'confidential', 'confidential', 'page', '02', 'lima', '02545', '02', 'of', '02', '232231', 'z', 'conflict', 'of', 'interests', 'we', 'had', 'hopes', 'we', 'could', 'do', 'so', 'but', 'as', 'of', 'the', 'moment', 'the', 'solution', 'still', 'eluded', 'us', 'belcher', 'confidential', 'nmafvvzcz', '', 'current', 'handling', 'restrictions', '', 'n/a', '', 'current', 'classification', '', 'confidential']\n",
            "['page', '01', 'state', '072074', '15', 'origin', 'ss-15', 'info', 'oct-01', 'cco-00', 'rsc-01', 'file-01', 'sso-00', 'adp-00', '018', 'r', '66660', 'drafted', 'by', 's', 's', 'o', 'rwright', 'approved', 'by', 's', 's', 'o', 'rwright', '', '099745', 'o', '181030', 'z', 'apr', '73', 'zff4', 'fm', 'secstate', 'washdc', 'to', 'amembassy', 'kathmandu', 'immediate', 'c', 'o', 'n', 'f', 'i', 'd', 'e', 'n', 't', 'i', 'a', 'l', 'state', '072074', 'todep', '74', 'following', 'sent', 'action', 'tehran', 'info', 'seoul', 'tokyo', 'usunny', 'geneva', 'april', '18', 'from', 'secstate', 'repeated', 'to', 'you', 'quote', 'c', 'o', 'n', 'f', 'i', 'd', 'e', 'n', 't', 'i', 'a', 'l', 'state', '072074', 'e', 'o', '11652', 'gds', 'tags', 'pfor', 'ir', 'kn', 'ks', 'subj', 'iranian', 'recognition', 'of', 'north', 'korea', 'ref', 'seoul', '2123', '2368', 'tehran', '590', '1095', '1', 'assuming', 'you', 'perceive', 'no', 'objections', 'to', 'the', 'contrary', 'and', 'assuming', 'rokg', 'has', 'made', 'representations', 'in', 'the', 'appropriate', 'quarters', 'you', 'are', 'requested', 'to', 'approach', 'the', 'goi', 'at', 'what', 'ever', 'level', 'you', 'deem', 'suitable', 'requesting', 'it', 'to', 'reconsider', 'early', 'recognition', 'of', 'north', 'korea', 'in', 'light', 'of', 'the', 'following', 'a', 'despite', 'obstacles', 'involved', 'current', 'negotiations', 'between', 'north', 'and', 'south', 'offer', 'considerable', 'promise', 'of', 're', 'ducing', 'tensions', 'on', 'korean', 'peninsula', 'and', 'consequently', 'northeast', 'asia', 'these', 'negotiations', 'were', 'undertaken', 'at', 'initiative', 'of', 'south', 'which', 'has', 'also', 'been', 'more', 'amenable', 'to', 'compromise', 'necessary', 'to', 'further', 'progress', 'of', 'talks', 'support', 'of', 'korea', 'by', 'friends', 'and', 'allies', 'has', 'been', 'essential', 'element', 'in', 'leading', 'rok', 'to', 'pursue', 'talks', 'confidential', 'page', '02', 'state', '072074', 'b', 'we', 'concerned', 'that', 'recent', 'north', 'korean', 'diplomatic', 'success', 'in', 'achieving', 'recognition', 'by', 'several', 'rok', 'friends', 'has', 'resulted', 'in', 'pyongyang', 's', 'feeling', 'its', 'position', 'strength', 'ened', 'vis', 'a', 'vis', 'rok', 'and', 'has', 'made', 'north', 'less', 'forthcoming', 'in', 'north', 'south', 'talks', 'north', 'has', 'been', 'blocking', 'progress', 'in', 'talks', 'since', 'beginning', '1973', 'and', 'has', 'reverted', 'to', 'hard', 'line', 'which', 'was', 'in', 'evidence', 'before', 'talks', 'staad', 'been', 'making', 'determined', 'effort', 'to', 'improve', 'image', 'of', 'uganda', 'especially', 'abroad', 'and', 'withdrawal', 'of', 'a', 'major', 'power', 'like', 'u', 's', 'would', 'be', 'a', 'blow', 'at', 'this', 'time', 'etiang', 'asked', 'johnson', 'point', 'blank', '', 'a', 'what', 'were', 'reasons', 'for', 'deteriorating', 'relations', 'between', 'u', 's', 'and', 'uganda;', 'and', '', 'b', 'whether', 'aid', 'was', 'in', 'fact', 'withdrawing', 'and', 'if', 'so', 'why', '2', 'johnson', 'responded', 'that', 'it', 'was', 'not', 'within', 'his', 'competence', 'to', 'discuss', 'u', 's', 'ugandan', 'relations', 'a', 'subject', 'that', 'should', 'be', 'taken', 'up', 'with', 'charge', 'regarding', 'aid', 'he', 'made', 'following', 'points', '', 'a', 'in', 'whatever', 'decisions', 'u', 's', 'made', 'he', 'was', 'not', 'aware', 'of', 'any', 'british', 'influence', '', 'b', 'three', 'aid', 'projects', 'were', 'phasing', 'out', 'by', 'june', '30', 'and', 'their', '15', 'technicians', 'had', 'left', 'or', 'were', 'preparing', 'to', 'leave', '', 'c', 'president', 'amin', 's', '\"', 'economic', 'war\"', 'had', 'created', 'new', 'economy', 'with', 'new', 'priorities', 'and', 'new', 'people', 'to', 'deal', 'with', 'which', 'might', 'call', 'for', 'a', 'discontinuance', 'of', 'operations', 'by', 'foreign', 'aid', 'donors', 'until', 'there', 'had', 'been', 'a', 'settling', 'of', 'economy', '', 'd', 'amin', 's', 'cables', 'to', 'washington', 'were', 'cause', 'of', 'major', 'difficulty', 'whenever', 'continuation', 'of', 'aid', 'was', 'discussed', '', 'e', 'security', 'conditions', 'in', 'country', 'made', 'our', 'technicians', '', 'and', 'their', 'ugandan', 'counterparts', 'afraid', 'to', 'travel', 'result', 'was', 'we', 'were', 'spending', 'good', 'deal', 'of', 'money', 'on', 'salaries', 'etc', 'with', 'very', 'little', 'benefit', 'to', 'uganda', 'or', 'ourselves', '3', 'johnson', 'stressed', 'especially', 'our', 'security', 'concerns', 'in', 'response', 'etiang', 'went', 'into', 'considerable', 'detail', 'about', 'disruptions', 'caused', 'by', 'military', 'take', 'over', 'and', 'unplanned', 'nature', 'of', 'economic', 'wai', 'also', 'detailed', 'amin', 's', 'efforts', 'to', 'deal', 'with', 'his', 'military', 'to', 'improve', 'security', 'and', 'to', 'better', 'uganda', 's', 'image', 'abroad', 'in', 'much', 'the', 'same', 'terms', 'he', 'used', 'with', 'charge', 'etiang', 'claimed', 'civilian', 'cabinet', 'was', 'having', 'influence', 'on', 'amin', 'and', 'was', 'encouraging', 'him', 'to', 'bring', 'the', 'military', 'under', 'control', 'he', 'also', 'argued', 'that', 'president', 'was', 'not', 'to', 'blame', 'for', 'many', 'things', 'that', 'occur', 'without', 'his', 'knowledge', 'owing', 'to', 'misbehavior', 'of', 'unruly', 'military', 'etiang', 'expressed', 'hope', 'usg', 'would', 'take', 'long', 'range', 'view', 'of', 'uganda', 'not', 'focussing', 'on', 'current', 'stresses', 'strains', 'and', 'problems', 'but', 'looking', 'rather', 'at', 'confidential', 'page', '03', 'kampal', '01383', '181044', 'z', 'gou', 's', 'attempts', 'to', 'improve', 'situation', '4', 'etiang', 'also', 'asked', 'johnson', 's', 'advice', 'and', 'evaluation', 'of', 'gou', 's', 'growing', 'relations', 'with', 'black', 'americans', 'for', 'example', 'core', 'group', 'which', 'recently', 'visited', 'uganda', 'johnson', 'responded', 'that', 'he', 'had', 'told', 'mr', 'innis', 'it', 'would', 'be', 'a', 'disservice', 'to', 'uganda', 'to', 'raise', 'amin', 's', 'expectations', 'of', 'assistance', 'to', 'levecs', 'that', 'could', 'not', 'be', 'fulfilled', 'and', 'in', 'any', 'case', 'gou', 'needs', 'to', 'shore', 'up', 'its', 'image', 'with', 'other', 'govern', 'ments', 'and', 'not', 'rely', 'too', 'heavily', 'on', 'any', 'particular', 'group', 'within', 'a', 'foreign', 'country', 'etiang', 'said', 'he', 'agreed', 'with', 'these', 'views', 'and', 'had', 'so', 'advised', 'amin', '5', 'memcon', 'being', 'pouched', 'af', 'e', 'and', 'aid', 'w', 'keeley', 'confidential', '<<', 'end', 'of', 'document', '>>']\n",
            "['page', '01', 'state', '068246', '52', 'origin', 'ara-17', 'info', 'oct-01', 'io-12', 'adp-00', 'nsc-10', 'ss-15', 'aid-20', 'ea-11', 'eur-25', 'eb-11', 'ciae-00', 'inr-10', 'nsae-00', 'rsc-01', 'prs-01', 'pa-03', 'usia-12', 'opic-12', 'come-00', 'trse-00', 'omb-01', '162', 'r', 'drafted', 'by', 'usoas', 'tfcrigler', 'jd', '4/12/73', 'ext', '22317', 'approved', 'by', 'usoas', 'fjmcneil', 'desired', 'distribution', 'nsc', '', '053827', 'r', '121757', 'z', 'arr', '73', 'fm', 'secstate', 'washdc', 'to', 'all', 'american', 'republic', 'diplomatic', 'posts', 'info', 'usmission', 'usun', 'ny', 'unclas', 'state', '068246', 'e', 'o', '11652', 'n', 'a', 'tags', 'pfor', 'oas', 'jm', 'subject', 'jamaican', 'senator', 'thompson', 's', 'speech', 'oasga', '23', 'jamaican', 'senator', 'thompson', 'noted', 'that', 'i', 'a', 'system', 'was', 'grad', 'ually', 'evolving', 'away', 'from', 'cold', 'war', 'oriented', 'security', 'function', 'toward', 'human', 'concerns', 'but', 'it', 'clearly', 'had', 'not', 'yet', 'become', 'efficient', 'channel', 'for', 'transfer', 'of', 'resources', 'jamaica', 'hoped', 'evolution', 'would', 'continue', 'toward', 'system', 'which', 'would', '', 'a', 'be', 'ideological', 'neutral', 'and', 'open', 'to', 'all', '', 'b', 'take', 'into', 'account', 'economic', 'importance', 'of', 'eec', 'japan', '', 'c', 'encourage', 'relatively', 'better', 'off', 'latins', 'to', 'aid', 'poorer', 'including', 'such', 'matters', 'as', 'access', 'to', 'markets', 'and', '', 'd', 'foster', 'basic', 'research', 'on', 'social', 'problems', 'thompson', 'then', 'attacked', 'exclusion', 'of', 'belize', 'and', 'guyana', 'from', 'oas', 'as', 'affront', 'to', '\"', 'anti', 'colonial', 'movement', 'of', 'english', 'speaking', 'caribbeans,\"', 'and', 'deplored', 'assembly', 'agenda', 'item', 'on', '\"', 'mini', 'states\"', 'as', 'threatening', 'to', 'deny', 'full', 'membership', 'to', 'others', 'complained', '', 'quite', 'justly', 'that', 'jamaica', 'which', 'consistently', 'pays', 'its', 'quota', 'in', 'full', 'and', 'on', 'time', 'got', 'less', 'than', 'its', 'unclassified', 'page', '02', 'state', '068246', 'share', 'of', 'oas', 'technical', 'assistance', 'benefits', 'and', 'added', 'something', 'should', 'be', 'done', 'to', 'reduce', 'quota', 'arrears', 'among', 'others', 'commenting', 'briefly', 'on', 'secy', 'rogers', 'earlier', 'remarks', 'on', 'rights', 'of', 'foreign', 'investors', 'thompson', 'said', 'jamaica', 'believes', 'in', 'sanctity', 'of', 'contract', 'that', 'investment', 'implies', 'a', 'social', 'responsibility', 'to', 'host', 'country', 'but', 'that', 'once', 'assured', 'the', 'contract', 'terms', 'should', 'be', 'regarded', 'as', 'inviolable', 'by', 'both', 'sides', 'rogers', 'unclassified', '<<', 'end', 'of', 'document', '>>']\n",
            "['page', '01', 'state', '060552', '12', 'origin', 'sci-02', 'info', 'oct-01', 'ara-02', 'adp-00', '005', 'r', '66661', 'drafted', 'by', 'sci', 'sam', 'wgbastedo', 'approved', 'by', 'sci', 'sam', 'wgbastedo', 'ara', 'br', 'lgirdler', '', 'info', '', '090827', 'p', '022251', 'z', 'apr', '73', 'fm', 'secstate', 'washdc', 'to', 'amembassy', 'santiago', 'priority', 'unclas', 'state', '060552', 'following', 'sent', 'action', 'c', 'jones', 'code', '1', 'nasahq', 'washdc', 'info', 'stockwell', 'brockett', 'otda', 'nasa', 'hq', 'washdc', 'f', 'glynn', 'code', '862.3', 't&', 't', 'lab', 'nasa', 'greenblet', 'md', 'h', 'mckeehan', 'code', '802.0', 'nasa', 'gsfc', 'greenbelt', 'md', 'state', 'dept', 'washdc', 'attn', 'sci', 'state', 'dept', 'washdc', 'attn', 'e', 'oa', 'avp', 'maclo', 'rio', 'de', 'janeiro', 'brazil', 'stadir', 'johannesburg', 's', 'africa', 'stadir', 'tananarive', 'malagasy', 'republic', 'stadir', 'ascension', 'island', 'yzken', 'patrick', 'afb', 'fla', 'from', 'chief', 'pilot', 'bendix', 'flt', 'ops', 'martin', 'arpt', 'md', 'mar', '13', '1973', 'repeated', 'to', 'you', 'quote', 'unclas', 'goddard', 'space', 'flt', 'ctr', '', 'nasa', 'will', 'deploy', 'c-118', 'a', 'network', 'instrumented', 'aircraft', 'no', 'n428', 'na', 'radio', 'call', 'sign', 'nasa', '428', 'to', 'johannesburg', 'tanana', 'rive', 'and', 'santiago', 'for', 'calibration', 'of', 'those', 'stdn', 'sites', 'request', 'necessary', 'overflight', 'and', 'landing', 'clearances', 'where', 'necessary', 'iaw', 'itinerary', 'below', 'for', 'your', 'info', 'the', 'flwg', 'details', 'are', 'submitted', 'acft', 'crew', 'capt', 'h', 'sanford', 'f', 'o', 'r', 'roberts', 'f', 'e', 'w', 'darr', 'f', 'm', 'h', 'hudepohl', 'nav', 'd', 'lamer', 'nasa', 'test', 'conductor', 'sim', 'director', 'k', 'hunter', 'and', 'p', 'farwell', 'cakub', 'crew', 'r', 'shaver', 'w', 'elk', 'v', 'coates', 'j', 'montoya', 'j', 'swain', 'j', 'prahinski', 'd', 'brigham', 'w', 'adams', 'm', 'mccracken', 'and', 'd', 'gollaknerm', 'all', 'flt', 'and', 'calib', 'crew', 'are', 'bendix', 'fld', 'eng', 'corp', 'employees', 'all', 'u', 's', 'citizens', 'with', 'valid', 'passports', 'and', 'visas', 'where', 'reqd', 'nasa', 'test', 'condr', 'and', 'sim', 'dir', 'are', 'civil', 'servant', '6', 'sfc', 'officials', 'particular', 'areas', 'of', 'concern', 'are', 'africa', 'madagascar', 'with', 'specific', 'attn', 'to', 'angola', 'south', 'africa', 'and', 'malagasy', 'republic', 'for', 'landing', 'clearance', 'please', 'note', 'unclassified', 'page', '02', 'state', '060552', 'flights', 'on', '16', 'and', '28', 'apr', 'between', 'johannesburg', 'and', 'tananarive', 'these', 'flights', 'are', 'routed', 'over', 'lourenco', 'marques', 'mozambique', 'via', 'route', 'dg-53', 'we', 'are', 'specifically', 'requesting', 'mozambique', 'overflight', 'clearance', 'for', 'this', 'segment', 'also', 'please', 'note', 'two', '2', 'transits', 'of', 'angola', 'on', '6/7', 'apr', 'and', '8/9', 'may', 'likewise', 'two', 'penetrations', 'stays', 'in', 'south', 'africa', 'south', 'america', 'ascension', 'is', 'clearance', 'to', 'be', 'arranged', 'by', 'gbfo', 'with', 'mscs', 'to', 'agencies', 'of', 'cincern', 'proposed', 'itinerary', 'follows', 'all', 'times', 'zulu', 'months', 'april', 'and', 'may', '73', 'three', 'columns', 'arrive', 'place', 'depart', 'originate', 'martin', 'airport', 'mtn', '02-1400', 'apr', '02-2030', 'san', 'juan', 'mjsj', '03-1400', '03-1900', 'zanderij', 'mezy', '04-1330', '04-2100', 'recife', 'sbrf', '05-1200', '05-1745', 'ascension', 'fhaw', '06-0800', '06-1545', 'luanda', 'fnlu', '07-0830', '07-1500', 'johannesburg', 'fsjs', '16-0', '700', '16-1230', 'tananarive', 'fmmi', '28-0600', '28-1130', 'johannesburg', 'fsjs', '08-0700', 'may', '08-1339', 'luanda', 'fnlu', '09-0900', '09-1645', 'ascension', 'fhaw', '10-0900', 'remainder', 'of', 'itin', 'applies', 'to', 's', 'america', 'and', 'return', 'to', 'conus', 'reqeust', 'all', 'clearances', 'be', 'procured', 'with', 'plus', 'minus', 'seventy', 'two', '72', 'hour', 'validity', 'period', 'capt', 'will', 'advise', 'all', 'concerned', 'of', 'itinerary', 'changes', 'enroute', 'sanford', 'sends', 'eot', 'unquote', 'rush', 'unclassified', '<<', 'end', 'of', 'document', '>>']\n",
            "['page', '01', 'lagos', '02780', '061225', 'z', '40', 'action', 'ss-15', 'info', 'oct-01', 'af-10', 'eur-25', 'adp-00', 'cu-04', 'io-12', 'hew-08', 'ciae-00', 'inr-10', 'nsae-00', 'rsc-01', 'usia-12', 'aid-20', 'rsr-01', '119', 'w', '', '128159', 'r', '061127', 'z', 'apr', '73', 'fm', 'amembassy', 'lagos', 'to', 'secstate', 'washdc', '9049', 'info', 'us', 'mission', 'berlin', '45', 'amconsul', 'kaduna', 'amconsul', 'ibadan', 'c', 'o', 'n', 'f', 'i', 'd', 'e', 'n', 't', 'i', 'a', 'l', 'lagos', '2780', 'e', 'o', '11652', 'gds', 'tags', '', 'pins', 'pfor', 'ni', 'subject', 'youth', 'policy', '', 'world', 'youth', 'festival', 'ref', '', 'state', '54661', '1', 'at', 'present', 'nigeria', 'has', 'no', 'firm', 'plans', 'to', 'send', 'delegation', 'to', 'world', 'youth', 'festival', 'in', 'east', 'berlin', 'according', 'secgen', 'nigerian', 'youth', 'council', '', 'nyc', '', 'fmg', 'will', 'not', 'allow', 'delegates', 'to', 'attend', 'except', 'through', 'nyc', 'or', 'affiliate', 'nyc', 'itself', 'has', 'no', 'plans', 'send', 'delegation', 'as', 'organizers', 'fo', 'festival', 'sent', 'invitations', 'through', '\"', 'nigerian', 'youth', 'thinkers', 'club\"', 'which', 'is', 'not', 'affiliated', 'with', 'nyc', 'due', 'to', 'factional', 'disputes', 'within', 'club', '2', 'thinkers', 'club', 'which', 'would', 'be', 'communist', 'party', 'youth', 'group', 'if', 'cp', 'were', 'legal', 'in', 'nigeria', 'does', 'plan', 'send', 'delegation', 'club', 'officials', 'claim', 'expect', 'no', 'problem', 'with', 'fmg', 'despite', 'lack', 'affiliation', 'nyc', 'club', 'intends', 'select', 'delegates', 'during', 'rally', 'this', 'month', 'in', 'lagos', 'secgen', 'nyc', 'insists', 'however', 'gov', 't', 'will', 'prevent', 'delegates', 'from', 'departing', 'country', '3', 'comment', 'nyc', 'has', 'close', 'ties', 'with', 'fmg', 'which', 'supplies', 'most', 'of', 'its', 'budget', 'and', 'should', 'ordinarily', 'know', 'gov', 't', 'intentions', 'but', 'as', 'fmg', 'has', 'allowed', 'thinkers', 'club', 'under', 'scrutiny', 'to', 'distribute', 'scholarships', 'to', 'patrice', 'lumumba', '', 'moscow', 'univeristy', 'in', 'the', 'past', 'even', 'without', 'affiliation', 'confidential', 'page', '02', 'lagos', '02780', '061225', 'z', 'nyc', 'it', 'remains', 'to', 'be', 'seen', 'whether', 'the', 'fmg', 'will', 'in', 'fact', 'prevent', 'departure', 'of', 'delegation', 'selected', 'through', 'club', 'reinhardt', 'confidential', '<<', 'end', 'of', 'document', '>>']\n"
          ]
        }
      ]
    },
    {
      "cell_type": "markdown",
      "source": [
        "Now we can look for specific complete words in the full text of a message.  Let's look for mentions of Secretary of State Henry Kissenger.  Note that because we have lowercased everything, we need to lowercase this proper name as well."
      ],
      "metadata": {
        "id": "Tl1kamIYPW-t"
      }
    },
    {
      "cell_type": "code",
      "source": [
        "for i in range(len(tokens)):\n",
        "    for j in range(len(tokens[i])):\n",
        "        if tokens[i][j] == 'kissinger':\n",
        "            print('Kissinger found in message', i)\n",
        "\n",
        "print(tokens[1705])"
      ],
      "metadata": {
        "colab": {
          "base_uri": "https://localhost:8080/"
        },
        "id": "v2D1IAewpF9b",
        "outputId": "d2d9805b-0659-4d2f-a9ae-378bb773d04d"
      },
      "execution_count": null,
      "outputs": [
        {
          "output_type": "stream",
          "name": "stdout",
          "text": [
            "Kissenger found in message 1705\n",
            "Kissenger found in message 1705\n",
            "Kissenger found in message 12623\n",
            "Kissenger found in message 12623\n",
            "Kissenger found in message 23541\n",
            "Kissenger found in message 23541\n",
            "Kissenger found in message 34459\n",
            "Kissenger found in message 34459\n",
            "Kissenger found in message 45377\n",
            "Kissenger found in message 45377\n"
          ]
        }
      ]
    },
    {
      "cell_type": "markdown",
      "source": [
        "OK, we've seen how to get text over the Internet using wget (and unzip), how to iterate throgh files in a directory (which we created using unzip), how to parse XML to get specific fields (subject and msgtext), how to split long strings into lists of tokens, and how to match full strings and substrings.  In Assignment 1 you'll use these capabiilities to answr a question.  "
      ],
      "metadata": {
        "id": "7XP4W7i9zGyv"
      }
    },
    {
      "cell_type": "markdown",
      "source": [
        "Where is Kissinger i.e. where is the from address.\n",
        "from -location"
      ],
      "metadata": {
        "id": "gACHuq4ci0VH"
      }
    },
    {
      "cell_type": "code",
      "source": [
        "rules_analyzer = nlp_en.get_pipe('coreferee').annotator.rules_analyzer\n",
        "rules_analyzer.get_propn_subtree(doc[1])"
      ],
      "metadata": {
        "id": "P2Tr8syjdoS7",
        "outputId": "b509ed14-b45f-4a6f-d64a-22eb13dfb55f",
        "colab": {
          "base_uri": "https://localhost:8080/",
          "height": 182
        }
      },
      "execution_count": null,
      "outputs": [
        {
          "output_type": "error",
          "ename": "NameError",
          "evalue": "ignored",
          "traceback": [
            "\u001b[0;31m---------------------------------------------------------------------------\u001b[0m",
            "\u001b[0;31mNameError\u001b[0m                                 Traceback (most recent call last)",
            "\u001b[0;32m<ipython-input-1-bef39dfe7d35>\u001b[0m in \u001b[0;36m<module>\u001b[0;34m\u001b[0m\n\u001b[0;32m----> 1\u001b[0;31m \u001b[0mrules_analyzer\u001b[0m \u001b[0;34m=\u001b[0m \u001b[0mnlp_en\u001b[0m\u001b[0;34m.\u001b[0m\u001b[0mget_pipe\u001b[0m\u001b[0;34m(\u001b[0m\u001b[0;34m'coreferee'\u001b[0m\u001b[0;34m)\u001b[0m\u001b[0;34m.\u001b[0m\u001b[0mannotator\u001b[0m\u001b[0;34m.\u001b[0m\u001b[0mrules_analyzer\u001b[0m\u001b[0;34m\u001b[0m\u001b[0;34m\u001b[0m\u001b[0m\n\u001b[0m\u001b[1;32m      2\u001b[0m \u001b[0mrules_analyzer\u001b[0m\u001b[0;34m.\u001b[0m\u001b[0mget_propn_subtree\u001b[0m\u001b[0;34m(\u001b[0m\u001b[0mdoc\u001b[0m\u001b[0;34m[\u001b[0m\u001b[0;36m1\u001b[0m\u001b[0;34m]\u001b[0m\u001b[0;34m)\u001b[0m\u001b[0;34m\u001b[0m\u001b[0;34m\u001b[0m\u001b[0m\n",
            "\u001b[0;31mNameError\u001b[0m: name 'nlp_en' is not defined"
          ]
        }
      ]
    },
    {
      "cell_type": "code",
      "source": [
        "import xml.etree.ElementTree as ET\n",
        "import random\n",
        "\n",
        "\n",
        "import csv\n",
        "import os\n",
        "f=open('Kissinger_Travel.csv','w')\n",
        "writer = csv.writer(f)\n",
        "data=[\"Date\",\"Location\"]\n",
        "files = 0\n",
        "for file in os.listdir('cables'):\n",
        "    if file.startswith('CFPF.TEL') and file.endswith('PU') and files < 20:\n",
        "        tree=ET.parse('cables/' + file)\n",
        "        root = tree.getroot()\n",
        "        n=0\n",
        "        date=list(root.iter('date'))\n",
        "        location=list(root.iter('from'))\n",
        "        \n",
        "        writer.writerow(data)\n",
        "        for tag in list(root.iter('tags')):\n",
        "          if 'KISSINGER' in tag.text:\n",
        "            data=[date[n].text,location[n].text]\n",
        "            writer.writerow(data)\n",
        "          n += 1\n",
        "        files += 1\n"
      ],
      "metadata": {
        "id": "vsOdLDO45SJW"
      },
      "execution_count": null,
      "outputs": []
    },
    {
      "cell_type": "markdown",
      "source": [
        "I iterated through 20 different files in the cables directory and found the messages that Kissinger sent. Then added the location and the date on which the telegram was sent to a CSV file called \"Kissinger_Travel.csv\". "
      ],
      "metadata": {
        "id": "kAx8yFaQqnyZ"
      }
    },
    {
      "cell_type": "markdown",
      "source": [
        "In the below code, the library pandas was imported to read the CSV file created in the previous code block. A DataFrame data is created and the dates are set in ascending order. This sorted DataFrame is written into a txt file called \"Kissinger_Travel.txt\", which contains the required output."
      ],
      "metadata": {
        "id": "eUljUuM1rds9"
      }
    },
    {
      "cell_type": "code",
      "source": [
        "import pandas as pd\n",
        "data = pd.read_csv('/content/Kissinger_Travel.csv')\n",
        "display(data.head())\n",
        "data['Date'] = pd.to_datetime(data.Date, infer_datetime_format = True)\n",
        "\n",
        "data.sort_values(by = 'Date', ascending = True, inplace = True)\n",
        "display(data.head())\n",
        "print(data)\n",
        "with open('Kissinger_Travel.txt','a+') as f:\n",
        "  f.write(\"Date\")\n",
        "  f.write(\"       \")\n",
        "  f.write(\"Location\")\n",
        "  f.write(\"\\n\")\n",
        "data.to_csv('Kissinger_Travel.txt', header=None, index=None, sep=' ', mode='a')"
      ],
      "metadata": {
        "colab": {
          "base_uri": "https://localhost:8080/",
          "height": 638
        },
        "id": "js5l6tHUzJsM",
        "outputId": "bde88f4a-0a39-438a-adfe-17ca3b1c2028"
      },
      "execution_count": null,
      "outputs": [
        {
          "output_type": "display_data",
          "data": {
            "text/plain": [
              "          Date  Location\n",
              "0  04 JUL 1973  HELSINKI\n",
              "1  03 JUL 1973  HELSINKI\n",
              "2  03 JUL 1973  HELSINKI\n",
              "3  05 JUL 1973  HELSINKI\n",
              "4  07 JUL 1973  HELSINKI"
            ],
            "text/html": [
              "\n",
              "  <div id=\"df-9a0e0d42-0c4d-46ea-ab3a-ead23c7496d4\">\n",
              "    <div class=\"colab-df-container\">\n",
              "      <div>\n",
              "<style scoped>\n",
              "    .dataframe tbody tr th:only-of-type {\n",
              "        vertical-align: middle;\n",
              "    }\n",
              "\n",
              "    .dataframe tbody tr th {\n",
              "        vertical-align: top;\n",
              "    }\n",
              "\n",
              "    .dataframe thead th {\n",
              "        text-align: right;\n",
              "    }\n",
              "</style>\n",
              "<table border=\"1\" class=\"dataframe\">\n",
              "  <thead>\n",
              "    <tr style=\"text-align: right;\">\n",
              "      <th></th>\n",
              "      <th>Date</th>\n",
              "      <th>Location</th>\n",
              "    </tr>\n",
              "  </thead>\n",
              "  <tbody>\n",
              "    <tr>\n",
              "      <th>0</th>\n",
              "      <td>04 JUL 1973</td>\n",
              "      <td>HELSINKI</td>\n",
              "    </tr>\n",
              "    <tr>\n",
              "      <th>1</th>\n",
              "      <td>03 JUL 1973</td>\n",
              "      <td>HELSINKI</td>\n",
              "    </tr>\n",
              "    <tr>\n",
              "      <th>2</th>\n",
              "      <td>03 JUL 1973</td>\n",
              "      <td>HELSINKI</td>\n",
              "    </tr>\n",
              "    <tr>\n",
              "      <th>3</th>\n",
              "      <td>05 JUL 1973</td>\n",
              "      <td>HELSINKI</td>\n",
              "    </tr>\n",
              "    <tr>\n",
              "      <th>4</th>\n",
              "      <td>07 JUL 1973</td>\n",
              "      <td>HELSINKI</td>\n",
              "    </tr>\n",
              "  </tbody>\n",
              "</table>\n",
              "</div>\n",
              "      <button class=\"colab-df-convert\" onclick=\"convertToInteractive('df-9a0e0d42-0c4d-46ea-ab3a-ead23c7496d4')\"\n",
              "              title=\"Convert this dataframe to an interactive table.\"\n",
              "              style=\"display:none;\">\n",
              "        \n",
              "  <svg xmlns=\"http://www.w3.org/2000/svg\" height=\"24px\"viewBox=\"0 0 24 24\"\n",
              "       width=\"24px\">\n",
              "    <path d=\"M0 0h24v24H0V0z\" fill=\"none\"/>\n",
              "    <path d=\"M18.56 5.44l.94 2.06.94-2.06 2.06-.94-2.06-.94-.94-2.06-.94 2.06-2.06.94zm-11 1L8.5 8.5l.94-2.06 2.06-.94-2.06-.94L8.5 2.5l-.94 2.06-2.06.94zm10 10l.94 2.06.94-2.06 2.06-.94-2.06-.94-.94-2.06-.94 2.06-2.06.94z\"/><path d=\"M17.41 7.96l-1.37-1.37c-.4-.4-.92-.59-1.43-.59-.52 0-1.04.2-1.43.59L10.3 9.45l-7.72 7.72c-.78.78-.78 2.05 0 2.83L4 21.41c.39.39.9.59 1.41.59.51 0 1.02-.2 1.41-.59l7.78-7.78 2.81-2.81c.8-.78.8-2.07 0-2.86zM5.41 20L4 18.59l7.72-7.72 1.47 1.35L5.41 20z\"/>\n",
              "  </svg>\n",
              "      </button>\n",
              "      \n",
              "  <style>\n",
              "    .colab-df-container {\n",
              "      display:flex;\n",
              "      flex-wrap:wrap;\n",
              "      gap: 12px;\n",
              "    }\n",
              "\n",
              "    .colab-df-convert {\n",
              "      background-color: #E8F0FE;\n",
              "      border: none;\n",
              "      border-radius: 50%;\n",
              "      cursor: pointer;\n",
              "      display: none;\n",
              "      fill: #1967D2;\n",
              "      height: 32px;\n",
              "      padding: 0 0 0 0;\n",
              "      width: 32px;\n",
              "    }\n",
              "\n",
              "    .colab-df-convert:hover {\n",
              "      background-color: #E2EBFA;\n",
              "      box-shadow: 0px 1px 2px rgba(60, 64, 67, 0.3), 0px 1px 3px 1px rgba(60, 64, 67, 0.15);\n",
              "      fill: #174EA6;\n",
              "    }\n",
              "\n",
              "    [theme=dark] .colab-df-convert {\n",
              "      background-color: #3B4455;\n",
              "      fill: #D2E3FC;\n",
              "    }\n",
              "\n",
              "    [theme=dark] .colab-df-convert:hover {\n",
              "      background-color: #434B5C;\n",
              "      box-shadow: 0px 1px 3px 1px rgba(0, 0, 0, 0.15);\n",
              "      filter: drop-shadow(0px 1px 2px rgba(0, 0, 0, 0.3));\n",
              "      fill: #FFFFFF;\n",
              "    }\n",
              "  </style>\n",
              "\n",
              "      <script>\n",
              "        const buttonEl =\n",
              "          document.querySelector('#df-9a0e0d42-0c4d-46ea-ab3a-ead23c7496d4 button.colab-df-convert');\n",
              "        buttonEl.style.display =\n",
              "          google.colab.kernel.accessAllowed ? 'block' : 'none';\n",
              "\n",
              "        async function convertToInteractive(key) {\n",
              "          const element = document.querySelector('#df-9a0e0d42-0c4d-46ea-ab3a-ead23c7496d4');\n",
              "          const dataTable =\n",
              "            await google.colab.kernel.invokeFunction('convertToInteractive',\n",
              "                                                     [key], {});\n",
              "          if (!dataTable) return;\n",
              "\n",
              "          const docLinkHtml = 'Like what you see? Visit the ' +\n",
              "            '<a target=\"_blank\" href=https://colab.research.google.com/notebooks/data_table.ipynb>data table notebook</a>'\n",
              "            + ' to learn more about interactive tables.';\n",
              "          element.innerHTML = '';\n",
              "          dataTable['output_type'] = 'display_data';\n",
              "          await google.colab.output.renderOutput(dataTable, element);\n",
              "          const docLink = document.createElement('div');\n",
              "          docLink.innerHTML = docLinkHtml;\n",
              "          element.appendChild(docLink);\n",
              "        }\n",
              "      </script>\n",
              "    </div>\n",
              "  </div>\n",
              "  "
            ]
          },
          "metadata": {}
        },
        {
          "output_type": "display_data",
          "data": {
            "text/plain": [
              "           Date   Location\n",
              "4985 1973-01-03      STATE\n",
              "4988 1973-01-12   TEL AVIV\n",
              "4987 1973-01-12   TEL AVIV\n",
              "4986 1973-01-16  JERUSALEM\n",
              "6005 1973-02-19      STATE"
            ],
            "text/html": [
              "\n",
              "  <div id=\"df-a8f43417-ec56-4bc7-9aad-b265fafb2cf0\">\n",
              "    <div class=\"colab-df-container\">\n",
              "      <div>\n",
              "<style scoped>\n",
              "    .dataframe tbody tr th:only-of-type {\n",
              "        vertical-align: middle;\n",
              "    }\n",
              "\n",
              "    .dataframe tbody tr th {\n",
              "        vertical-align: top;\n",
              "    }\n",
              "\n",
              "    .dataframe thead th {\n",
              "        text-align: right;\n",
              "    }\n",
              "</style>\n",
              "<table border=\"1\" class=\"dataframe\">\n",
              "  <thead>\n",
              "    <tr style=\"text-align: right;\">\n",
              "      <th></th>\n",
              "      <th>Date</th>\n",
              "      <th>Location</th>\n",
              "    </tr>\n",
              "  </thead>\n",
              "  <tbody>\n",
              "    <tr>\n",
              "      <th>4985</th>\n",
              "      <td>1973-01-03</td>\n",
              "      <td>STATE</td>\n",
              "    </tr>\n",
              "    <tr>\n",
              "      <th>4988</th>\n",
              "      <td>1973-01-12</td>\n",
              "      <td>TEL AVIV</td>\n",
              "    </tr>\n",
              "    <tr>\n",
              "      <th>4987</th>\n",
              "      <td>1973-01-12</td>\n",
              "      <td>TEL AVIV</td>\n",
              "    </tr>\n",
              "    <tr>\n",
              "      <th>4986</th>\n",
              "      <td>1973-01-16</td>\n",
              "      <td>JERUSALEM</td>\n",
              "    </tr>\n",
              "    <tr>\n",
              "      <th>6005</th>\n",
              "      <td>1973-02-19</td>\n",
              "      <td>STATE</td>\n",
              "    </tr>\n",
              "  </tbody>\n",
              "</table>\n",
              "</div>\n",
              "      <button class=\"colab-df-convert\" onclick=\"convertToInteractive('df-a8f43417-ec56-4bc7-9aad-b265fafb2cf0')\"\n",
              "              title=\"Convert this dataframe to an interactive table.\"\n",
              "              style=\"display:none;\">\n",
              "        \n",
              "  <svg xmlns=\"http://www.w3.org/2000/svg\" height=\"24px\"viewBox=\"0 0 24 24\"\n",
              "       width=\"24px\">\n",
              "    <path d=\"M0 0h24v24H0V0z\" fill=\"none\"/>\n",
              "    <path d=\"M18.56 5.44l.94 2.06.94-2.06 2.06-.94-2.06-.94-.94-2.06-.94 2.06-2.06.94zm-11 1L8.5 8.5l.94-2.06 2.06-.94-2.06-.94L8.5 2.5l-.94 2.06-2.06.94zm10 10l.94 2.06.94-2.06 2.06-.94-2.06-.94-.94-2.06-.94 2.06-2.06.94z\"/><path d=\"M17.41 7.96l-1.37-1.37c-.4-.4-.92-.59-1.43-.59-.52 0-1.04.2-1.43.59L10.3 9.45l-7.72 7.72c-.78.78-.78 2.05 0 2.83L4 21.41c.39.39.9.59 1.41.59.51 0 1.02-.2 1.41-.59l7.78-7.78 2.81-2.81c.8-.78.8-2.07 0-2.86zM5.41 20L4 18.59l7.72-7.72 1.47 1.35L5.41 20z\"/>\n",
              "  </svg>\n",
              "      </button>\n",
              "      \n",
              "  <style>\n",
              "    .colab-df-container {\n",
              "      display:flex;\n",
              "      flex-wrap:wrap;\n",
              "      gap: 12px;\n",
              "    }\n",
              "\n",
              "    .colab-df-convert {\n",
              "      background-color: #E8F0FE;\n",
              "      border: none;\n",
              "      border-radius: 50%;\n",
              "      cursor: pointer;\n",
              "      display: none;\n",
              "      fill: #1967D2;\n",
              "      height: 32px;\n",
              "      padding: 0 0 0 0;\n",
              "      width: 32px;\n",
              "    }\n",
              "\n",
              "    .colab-df-convert:hover {\n",
              "      background-color: #E2EBFA;\n",
              "      box-shadow: 0px 1px 2px rgba(60, 64, 67, 0.3), 0px 1px 3px 1px rgba(60, 64, 67, 0.15);\n",
              "      fill: #174EA6;\n",
              "    }\n",
              "\n",
              "    [theme=dark] .colab-df-convert {\n",
              "      background-color: #3B4455;\n",
              "      fill: #D2E3FC;\n",
              "    }\n",
              "\n",
              "    [theme=dark] .colab-df-convert:hover {\n",
              "      background-color: #434B5C;\n",
              "      box-shadow: 0px 1px 3px 1px rgba(0, 0, 0, 0.15);\n",
              "      filter: drop-shadow(0px 1px 2px rgba(0, 0, 0, 0.3));\n",
              "      fill: #FFFFFF;\n",
              "    }\n",
              "  </style>\n",
              "\n",
              "      <script>\n",
              "        const buttonEl =\n",
              "          document.querySelector('#df-a8f43417-ec56-4bc7-9aad-b265fafb2cf0 button.colab-df-convert');\n",
              "        buttonEl.style.display =\n",
              "          google.colab.kernel.accessAllowed ? 'block' : 'none';\n",
              "\n",
              "        async function convertToInteractive(key) {\n",
              "          const element = document.querySelector('#df-a8f43417-ec56-4bc7-9aad-b265fafb2cf0');\n",
              "          const dataTable =\n",
              "            await google.colab.kernel.invokeFunction('convertToInteractive',\n",
              "                                                     [key], {});\n",
              "          if (!dataTable) return;\n",
              "\n",
              "          const docLinkHtml = 'Like what you see? Visit the ' +\n",
              "            '<a target=\"_blank\" href=https://colab.research.google.com/notebooks/data_table.ipynb>data table notebook</a>'\n",
              "            + ' to learn more about interactive tables.';\n",
              "          element.innerHTML = '';\n",
              "          dataTable['output_type'] = 'display_data';\n",
              "          await google.colab.output.renderOutput(dataTable, element);\n",
              "          const docLink = document.createElement('div');\n",
              "          docLink.innerHTML = docLinkHtml;\n",
              "          element.appendChild(docLink);\n",
              "        }\n",
              "      </script>\n",
              "    </div>\n",
              "  </div>\n",
              "  "
            ]
          },
          "metadata": {}
        },
        {
          "output_type": "stream",
          "name": "stdout",
          "text": [
            "           Date      Location\n",
            "4985 1973-01-03         STATE\n",
            "4988 1973-01-12      TEL AVIV\n",
            "4987 1973-01-12      TEL AVIV\n",
            "4986 1973-01-16     JERUSALEM\n",
            "6005 1973-02-19         STATE\n",
            "...         ...           ...\n",
            "5897 1974-12-31         STATE\n",
            "5896 1974-12-31  BUENOS AIRES\n",
            "5895 1974-12-31         CAIRO\n",
            "5894 1974-12-31         STATE\n",
            "5888 1974-12-31         STATE\n",
            "\n",
            "[8494 rows x 2 columns]\n"
          ]
        }
      ]
    }
  ]
}